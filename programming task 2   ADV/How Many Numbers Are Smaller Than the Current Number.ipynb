{
  "nbformat": 4,
  "nbformat_minor": 0,
  "metadata": {
    "colab": {
      "provenance": []
    },
    "kernelspec": {
      "name": "python3",
      "display_name": "Python 3"
    },
    "language_info": {
      "name": "python"
    }
  },
  "cells": [
    {
      "cell_type": "code",
      "execution_count": null,
      "metadata": {
        "id": "FAqiKmM0Hr2X"
      },
      "outputs": [],
      "source": [
        "class Solution:\n",
        "    def smallerNumbersThanCurrent(self, nums: List[int]) -> List[int]:\n",
        "        ans=[]\n",
        "        list1=sorted(nums)\n",
        "        for i in nums:\n",
        "            ans.append(list1.index(i))\n",
        "        return ans\n",
        "\n"
      ]
    }
  ]
}