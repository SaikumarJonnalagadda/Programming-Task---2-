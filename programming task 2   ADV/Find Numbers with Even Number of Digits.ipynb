{
  "nbformat": 4,
  "nbformat_minor": 0,
  "metadata": {
    "colab": {
      "provenance": []
    },
    "kernelspec": {
      "name": "python3",
      "display_name": "Python 3"
    },
    "language_info": {
      "name": "python"
    }
  },
  "cells": [
    {
      "cell_type": "code",
      "execution_count": null,
      "metadata": {
        "id": "FAqiKmM0Hr2X"
      },
      "outputs": [],
      "source": [
        "class Solution:\n",
        "    def findNumbers(self, nums: List[int]) -> int:\n",
        "        count=0\n",
        "        for i in nums:\n",
        "            i=str(i)\n",
        "            if (len(i))%2==0:\n",
        "                count=count+1\n",
        "        return count\n",
        "\n"
      ]
    }
  ]
}