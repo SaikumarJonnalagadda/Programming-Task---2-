{
  "nbformat": 4,
  "nbformat_minor": 0,
  "metadata": {
    "colab": {
      "provenance": []
    },
    "kernelspec": {
      "name": "python3",
      "display_name": "Python 3"
    },
    "language_info": {
      "name": "python"
    }
  },
  "cells": [
    {
      "cell_type": "code",
      "execution_count": null,
      "metadata": {
        "id": "FAqiKmM0Hr2X"
      },
      "outputs": [],
      "source": [
        "class Solution:\n",
        "    def subtractProductAndSum(self, n: int) -> int:\n",
        "        add=0\n",
        "        mul=1\n",
        "        while n>0:\n",
        "            a=n%10\n",
        "            n=n//10\n",
        "            add+=a\n",
        "            mul=mul*a\n",
        "        return (mul-add)"
      ]
    }
  ]
}