{
  "nbformat": 4,
  "nbformat_minor": 0,
  "metadata": {
    "colab": {
      "provenance": []
    },
    "kernelspec": {
      "name": "python3",
      "display_name": "Python 3"
    },
    "language_info": {
      "name": "python"
    }
  },
  "cells": [
    {
      "cell_type": "code",
      "execution_count": null,
      "metadata": {
        "id": "FAqiKmM0Hr2X"
      },
      "outputs": [],
      "source": [
        "class Solution:\n",
        "    def numIdenticalPairs(self, nums: List[int]) -> int:\n",
        "        ans=0\n",
        "        for i in range(0,len(nums)-1):\n",
        "            if nums[i] in nums[i+1::]:\n",
        "                ans=ans+nums[i+1::].count(nums[i])\n",
        "        return ans\n",
        "\n"
      ]
    }
  ]
}