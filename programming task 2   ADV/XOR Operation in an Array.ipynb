{
  "nbformat": 4,
  "nbformat_minor": 0,
  "metadata": {
    "colab": {
      "provenance": []
    },
    "kernelspec": {
      "name": "python3",
      "display_name": "Python 3"
    },
    "language_info": {
      "name": "python"
    }
  },
  "cells": [
    {
      "cell_type": "code",
      "execution_count": null,
      "metadata": {
        "id": "FAqiKmM0Hr2X"
      },
      "outputs": [],
      "source": [
        "class Solution:\n",
        "    def xorOperation(self, n: int, start: int) -> int:\n",
        "        nums=[]\n",
        "        a=1\n",
        "        for i in range(n):\n",
        "            if len(nums)==0:\n",
        "                nums.append(start)\n",
        "                a=start\n",
        "            else:\n",
        "                nums.append(start+2*i)\n",
        "                a=a^nums[i]\n",
        "        return a\n"
      ]
    }
  ]
}